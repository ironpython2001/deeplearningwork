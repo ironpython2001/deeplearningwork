{
 "cells": [
  {
   "cell_type": "code",
   "execution_count": 64,
   "metadata": {
    "collapsed": true
   },
   "outputs": [],
   "source": [
    "#https://dataplatform.ibm.com/analytics/notebooks/d96fa67b-14f1-4db7-8b60-1af3c13699c3/view?access_token=c31fd96333af39811a78fe7773e421a50c7e20a450badb653bf4e0db39dc8f3f\n",
    "import seaborn"
   ]
  },
  {
   "cell_type": "code",
   "execution_count": 65,
   "metadata": {},
   "outputs": [
    {
     "name": "stderr",
     "output_type": "stream",
     "text": [
      "C:\\Anaconda3\\envs\\statistical-inference\\lib\\site-packages\\bs4\\__init__.py:181: UserWarning: No parser was explicitly specified, so I'm using the best available HTML parser for this system (\"lxml\"). This usually isn't a problem, but if you run this code on another system, or in a different virtual environment, it may use a different parser and behave differently.\n",
      "\n",
      "The code that caused this warning is on line 193 of the file C:\\Anaconda3\\envs\\statistical-inference\\lib\\runpy.py. To get rid of this warning, change code that looks like this:\n",
      "\n",
      " BeautifulSoup(YOUR_MARKUP})\n",
      "\n",
      "to this:\n",
      "\n",
      " BeautifulSoup(YOUR_MARKUP, \"lxml\")\n",
      "\n",
      "  markup_type=markup_type))\n"
     ]
    },
    {
     "name": "stdout",
     "output_type": "stream",
     "text": [
      "anscombe\n",
      "attention\n",
      "brain_networks\n",
      "car_crashes\n",
      "dots\n",
      "exercise\n",
      "flights\n",
      "fmri\n",
      "gammas\n",
      "iris\n",
      "planets\n",
      "tips\n",
      "titanic\n"
     ]
    }
   ],
   "source": [
    "#to see the list of datasets supported by seaborn\n",
    "for i in seaborn.get_dataset_names():\n",
    "    print(i)\n"
   ]
  },
  {
   "cell_type": "code",
   "execution_count": 66,
   "metadata": {
    "collapsed": true
   },
   "outputs": [],
   "source": [
    "\n",
    "ds = seaborn.load_dataset('iris')\n"
   ]
  },
  {
   "cell_type": "code",
   "execution_count": 67,
   "metadata": {},
   "outputs": [
    {
     "data": {
      "text/html": [
       "<div>\n",
       "<style>\n",
       "    .dataframe thead tr:only-child th {\n",
       "        text-align: right;\n",
       "    }\n",
       "\n",
       "    .dataframe thead th {\n",
       "        text-align: left;\n",
       "    }\n",
       "\n",
       "    .dataframe tbody tr th {\n",
       "        vertical-align: top;\n",
       "    }\n",
       "</style>\n",
       "<table border=\"1\" class=\"dataframe\">\n",
       "  <thead>\n",
       "    <tr style=\"text-align: right;\">\n",
       "      <th></th>\n",
       "      <th>sepal_length</th>\n",
       "      <th>sepal_width</th>\n",
       "      <th>petal_length</th>\n",
       "      <th>petal_width</th>\n",
       "      <th>species</th>\n",
       "    </tr>\n",
       "  </thead>\n",
       "  <tbody>\n",
       "    <tr>\n",
       "      <th>0</th>\n",
       "      <td>5.1</td>\n",
       "      <td>3.5</td>\n",
       "      <td>1.4</td>\n",
       "      <td>0.2</td>\n",
       "      <td>setosa</td>\n",
       "    </tr>\n",
       "    <tr>\n",
       "      <th>1</th>\n",
       "      <td>4.9</td>\n",
       "      <td>3.0</td>\n",
       "      <td>1.4</td>\n",
       "      <td>0.2</td>\n",
       "      <td>setosa</td>\n",
       "    </tr>\n",
       "    <tr>\n",
       "      <th>2</th>\n",
       "      <td>4.7</td>\n",
       "      <td>3.2</td>\n",
       "      <td>1.3</td>\n",
       "      <td>0.2</td>\n",
       "      <td>setosa</td>\n",
       "    </tr>\n",
       "    <tr>\n",
       "      <th>3</th>\n",
       "      <td>4.6</td>\n",
       "      <td>3.1</td>\n",
       "      <td>1.5</td>\n",
       "      <td>0.2</td>\n",
       "      <td>setosa</td>\n",
       "    </tr>\n",
       "    <tr>\n",
       "      <th>4</th>\n",
       "      <td>5.0</td>\n",
       "      <td>3.6</td>\n",
       "      <td>1.4</td>\n",
       "      <td>0.2</td>\n",
       "      <td>setosa</td>\n",
       "    </tr>\n",
       "  </tbody>\n",
       "</table>\n",
       "</div>"
      ],
      "text/plain": [
       "   sepal_length  sepal_width  petal_length  petal_width species\n",
       "0           5.1          3.5           1.4          0.2  setosa\n",
       "1           4.9          3.0           1.4          0.2  setosa\n",
       "2           4.7          3.2           1.3          0.2  setosa\n",
       "3           4.6          3.1           1.5          0.2  setosa\n",
       "4           5.0          3.6           1.4          0.2  setosa"
      ]
     },
     "execution_count": 67,
     "metadata": {},
     "output_type": "execute_result"
    }
   ],
   "source": [
    "ds.head()"
   ]
  },
  {
   "cell_type": "code",
   "execution_count": 75,
   "metadata": {},
   "outputs": [],
   "source": [
    "seaborn.pairplot(ds, hue='species');"
   ]
  },
  {
   "cell_type": "code",
   "execution_count": 76,
   "metadata": {
    "collapsed": true
   },
   "outputs": [],
   "source": [
    "features= ds.values[:, :4]\n",
    "labels = ds.values[:, 4]"
   ]
  },
  {
   "cell_type": "code",
   "execution_count": 77,
   "metadata": {},
   "outputs": [],
   "source": [
    "from sklearn.cross_validation import train_test_split"
   ]
  },
  {
   "cell_type": "code",
   "execution_count": 78,
   "metadata": {
    "collapsed": true
   },
   "outputs": [],
   "source": [
    "train_features, test_features, train_labels, test_labels = train_test_split(features, labels, train_size=0.5, random_state=0)"
   ]
  },
  {
   "cell_type": "code",
   "execution_count": 79,
   "metadata": {
    "collapsed": true
   },
   "outputs": [],
   "source": [
    "import numpy as np\n",
    "import keras.utils "
   ]
  },
  {
   "cell_type": "code",
   "execution_count": 80,
   "metadata": {
    "collapsed": true
   },
   "outputs": [],
   "source": [
    "\n",
    "def one_hot_encode_object_array(arr):\n",
    "    '''One hot encode a numpy array of objects (e.g. strings)'''\n",
    "    uniques, ids = np.unique(arr, return_inverse=True)\n",
    "    return keras.utils.np_utils.to_categorical(ids, len(uniques))\n",
    "\n",
    "train_labels_ohe = one_hot_encode_object_array(train_labels)\n",
    "test_labels_ohe = one_hot_encode_object_array(test_labels)"
   ]
  },
  {
   "cell_type": "code",
   "execution_count": 81,
   "metadata": {
    "collapsed": true
   },
   "outputs": [],
   "source": [
    "import keras.models"
   ]
  },
  {
   "cell_type": "code",
   "execution_count": 48,
   "metadata": {
    "collapsed": true
   },
   "outputs": [],
   "source": [
    "model = keras.models.Sequential()"
   ]
  },
  {
   "cell_type": "code",
   "execution_count": 82,
   "metadata": {
    "collapsed": true
   },
   "outputs": [],
   "source": [
    "import keras.layers"
   ]
  },
  {
   "cell_type": "code",
   "execution_count": 84,
   "metadata": {},
   "outputs": [
    {
     "data": {
      "text/plain": [
       "4"
      ]
     },
     "execution_count": 84,
     "metadata": {},
     "output_type": "execute_result"
    }
   ],
   "source": [
    "features.shape[1]"
   ]
  },
  {
   "cell_type": "code",
   "execution_count": 85,
   "metadata": {
    "collapsed": true
   },
   "outputs": [],
   "source": [
    "inputlayer = keras.layers.Dense(16,activation=keras.activations.sigmoid,input_dim=features.shape[1])"
   ]
  },
  {
   "cell_type": "code",
   "execution_count": 86,
   "metadata": {
    "collapsed": true
   },
   "outputs": [],
   "source": [
    "model.add(inputlayer)"
   ]
  },
  {
   "cell_type": "code",
   "execution_count": 87,
   "metadata": {
    "collapsed": true
   },
   "outputs": [],
   "source": [
    "outputlayer = keras.layers.Dense(3,activation=keras.activations.softmax)"
   ]
  },
  {
   "cell_type": "code",
   "execution_count": 88,
   "metadata": {
    "collapsed": true
   },
   "outputs": [],
   "source": [
    "model.add(outputlayer)"
   ]
  },
  {
   "cell_type": "code",
   "execution_count": 89,
   "metadata": {},
   "outputs": [],
   "source": [
    "model.compile(optimizer=keras.optimizers.Adam(), loss=keras.losses.categorical_crossentropy, metrics=[\"accuracy\"])"
   ]
  },
  {
   "cell_type": "code",
   "execution_count": 90,
   "metadata": {},
   "outputs": [
    {
     "name": "stdout",
     "output_type": "stream",
     "text": [
      "Epoch 1/100\n",
      "75/75 [==============================] - 0s - loss: 1.0836 - acc: 0.3867         \n",
      "Epoch 2/100\n",
      "75/75 [==============================] - 0s - loss: 1.0170 - acc: 0.6400        \n",
      "Epoch 3/100\n",
      "75/75 [==============================] - 0s - loss: 0.9681 - acc: 0.7333     \n",
      "Epoch 4/100\n",
      "75/75 [==============================] - 0s - loss: 0.9340 - acc: 0.7333     \n",
      "Epoch 5/100\n",
      "75/75 [==============================] - 0s - loss: 0.8995 - acc: 0.7333     \n",
      "Epoch 6/100\n",
      "75/75 [==============================] - 0s - loss: 0.8677 - acc: 0.7333     \n",
      "Epoch 7/100\n",
      "75/75 [==============================] - 0s - loss: 0.8333 - acc: 0.7333     \n",
      "Epoch 8/100\n",
      "75/75 [==============================] - 0s - loss: 0.8090 - acc: 0.7333     \n",
      "Epoch 9/100\n",
      "75/75 [==============================] - 0s - loss: 0.7754 - acc: 0.7333     \n",
      "Epoch 10/100\n",
      "75/75 [==============================] - 0s - loss: 0.7456 - acc: 0.7333        \n",
      "Epoch 11/100\n",
      "75/75 [==============================] - 0s - loss: 0.7180 - acc: 0.7333     \n",
      "Epoch 12/100\n",
      "75/75 [==============================] - 0s - loss: 0.6922 - acc: 0.7333        \n",
      "Epoch 13/100\n",
      "75/75 [==============================] - 0s - loss: 0.6687 - acc: 0.7333     \n",
      "Epoch 14/100\n",
      "75/75 [==============================] - 0s - loss: 0.6460 - acc: 0.7333     \n",
      "Epoch 15/100\n",
      "75/75 [==============================] - 0s - loss: 0.6278 - acc: 0.7333        \n",
      "Epoch 16/100\n",
      "75/75 [==============================] - 0s - loss: 0.6044 - acc: 0.7333     \n",
      "Epoch 17/100\n",
      "75/75 [==============================] - 0s - loss: 0.5908 - acc: 0.7333     \n",
      "Epoch 18/100\n",
      "75/75 [==============================] - 0s - loss: 0.5748 - acc: 0.7333        \n",
      "Epoch 19/100\n",
      "75/75 [==============================] - 0s - loss: 0.5613 - acc: 0.7333     \n",
      "Epoch 20/100\n",
      "75/75 [==============================] - 0s - loss: 0.5469 - acc: 0.7333     \n",
      "Epoch 21/100\n",
      "75/75 [==============================] - 0s - loss: 0.5357 - acc: 0.7333     \n",
      "Epoch 22/100\n",
      "75/75 [==============================] - 0s - loss: 0.5271 - acc: 0.7333     \n",
      "Epoch 23/100\n",
      "75/75 [==============================] - 0s - loss: 0.5177 - acc: 0.7333     \n",
      "Epoch 24/100\n",
      "75/75 [==============================] - 0s - loss: 0.5092 - acc: 0.7333     \n",
      "Epoch 25/100\n",
      "75/75 [==============================] - 0s - loss: 0.5049 - acc: 0.7333     \n",
      "Epoch 26/100\n",
      "75/75 [==============================] - 0s - loss: 0.4946 - acc: 0.7333        \n",
      "Epoch 27/100\n",
      "75/75 [==============================] - 0s - loss: 0.4905 - acc: 0.7333     \n",
      "Epoch 28/100\n",
      "75/75 [==============================] - 0s - loss: 0.4840 - acc: 0.7333        \n",
      "Epoch 29/100\n",
      "75/75 [==============================] - 0s - loss: 0.4796 - acc: 0.7333        \n",
      "Epoch 30/100\n",
      "75/75 [==============================] - 0s - loss: 0.4783 - acc: 0.7333     \n",
      "Epoch 31/100\n",
      "75/75 [==============================] - 0s - loss: 0.4721 - acc: 0.7333     \n",
      "Epoch 32/100\n",
      "75/75 [==============================] - 0s - loss: 0.4688 - acc: 0.7333     \n",
      "Epoch 33/100\n",
      "75/75 [==============================] - 0s - loss: 0.4639 - acc: 0.7333     \n",
      "Epoch 34/100\n",
      "75/75 [==============================] - 0s - loss: 0.4638 - acc: 0.7333     \n",
      "Epoch 35/100\n",
      "75/75 [==============================] - 0s - loss: 0.4595 - acc: 0.7333     \n",
      "Epoch 36/100\n",
      "75/75 [==============================] - 0s - loss: 0.4574 - acc: 0.7333        \n",
      "Epoch 37/100\n",
      "75/75 [==============================] - 0s - loss: 0.4554 - acc: 0.7333     \n",
      "Epoch 38/100\n",
      "75/75 [==============================] - 0s - loss: 0.4523 - acc: 0.7333     \n",
      "Epoch 39/100\n",
      "75/75 [==============================] - 0s - loss: 0.4511 - acc: 0.7333     \n",
      "Epoch 40/100\n",
      "75/75 [==============================] - 0s - loss: 0.4508 - acc: 0.7333     \n",
      "Epoch 41/100\n",
      "75/75 [==============================] - 0s - loss: 0.4476 - acc: 0.7333     \n",
      "Epoch 42/100\n",
      "75/75 [==============================] - 0s - loss: 0.4478 - acc: 0.7333     \n",
      "Epoch 43/100\n",
      "75/75 [==============================] - 0s - loss: 0.4458 - acc: 0.7333        \n",
      "Epoch 44/100\n",
      "75/75 [==============================] - 0s - loss: 0.4434 - acc: 0.7333     \n",
      "Epoch 45/100\n",
      "75/75 [==============================] - 0s - loss: 0.4429 - acc: 0.7333     \n",
      "Epoch 46/100\n",
      "75/75 [==============================] - 0s - loss: 0.4400 - acc: 0.7333     \n",
      "Epoch 47/100\n",
      "75/75 [==============================] - 0s - loss: 0.4394 - acc: 0.7333     \n",
      "Epoch 48/100\n",
      "75/75 [==============================] - 0s - loss: 0.4398 - acc: 0.7333     \n",
      "Epoch 49/100\n",
      "75/75 [==============================] - 0s - loss: 0.4393 - acc: 0.7333     \n",
      "Epoch 50/100\n",
      "75/75 [==============================] - 0s - loss: 0.4374 - acc: 0.7333        \n",
      "Epoch 51/100\n",
      "75/75 [==============================] - 0s - loss: 0.4367 - acc: 0.7333        \n",
      "Epoch 52/100\n",
      "75/75 [==============================] - 0s - loss: 0.4366 - acc: 0.7333        \n",
      "Epoch 53/100\n",
      "75/75 [==============================] - 0s - loss: 0.4358 - acc: 0.7333     \n",
      "Epoch 54/100\n",
      "75/75 [==============================] - 0s - loss: 0.4347 - acc: 0.7333        \n",
      "Epoch 55/100\n",
      "75/75 [==============================] - 0s - loss: 0.4342 - acc: 0.7333     \n",
      "Epoch 56/100\n",
      "75/75 [==============================] - 0s - loss: 0.4339 - acc: 0.7333        \n",
      "Epoch 57/100\n",
      "75/75 [==============================] - 0s - loss: 0.4372 - acc: 0.7333     \n",
      "Epoch 58/100\n",
      "75/75 [==============================] - 0s - loss: 0.4313 - acc: 0.7333     \n",
      "Epoch 59/100\n",
      "75/75 [==============================] - 0s - loss: 0.4319 - acc: 0.7333     \n",
      "Epoch 60/100\n",
      "75/75 [==============================] - 0s - loss: 0.4329 - acc: 0.7333     \n",
      "Epoch 61/100\n",
      "75/75 [==============================] - 0s - loss: 0.4331 - acc: 0.7333        \n",
      "Epoch 62/100\n",
      "75/75 [==============================] - 0s - loss: 0.4309 - acc: 0.7333     \n",
      "Epoch 63/100\n",
      "75/75 [==============================] - 0s - loss: 0.4331 - acc: 0.7333     \n",
      "Epoch 64/100\n",
      "75/75 [==============================] - 0s - loss: 0.4293 - acc: 0.7333     \n",
      "Epoch 65/100\n",
      "75/75 [==============================] - 0s - loss: 0.4285 - acc: 0.7333        \n",
      "Epoch 66/100\n",
      "75/75 [==============================] - 0s - loss: 0.4292 - acc: 0.7333        \n",
      "Epoch 67/100\n",
      "75/75 [==============================] - 0s - loss: 0.4296 - acc: 0.7333     \n",
      "Epoch 68/100\n",
      "75/75 [==============================] - 0s - loss: 0.4310 - acc: 0.7333     \n",
      "Epoch 69/100\n",
      "75/75 [==============================] - 0s - loss: 0.4298 - acc: 0.7333        \n",
      "Epoch 70/100\n",
      "75/75 [==============================] - 0s - loss: 0.4286 - acc: 0.7333     \n",
      "Epoch 71/100\n",
      "75/75 [==============================] - 0s - loss: 0.4276 - acc: 0.7333        \n",
      "Epoch 72/100\n",
      "75/75 [==============================] - 0s - loss: 0.4283 - acc: 0.7333        \n",
      "Epoch 73/100\n",
      "75/75 [==============================] - 0s - loss: 0.4274 - acc: 0.7333     \n",
      "Epoch 74/100\n",
      "75/75 [==============================] - 0s - loss: 0.4267 - acc: 0.7333        \n",
      "Epoch 75/100\n",
      "75/75 [==============================] - 0s - loss: 0.4280 - acc: 0.7333     \n",
      "Epoch 76/100\n",
      "75/75 [==============================] - 0s - loss: 0.4268 - acc: 0.7333     \n",
      "Epoch 77/100\n",
      "75/75 [==============================] - 0s - loss: 0.4265 - acc: 0.7333     \n",
      "Epoch 78/100\n",
      "75/75 [==============================] - 0s - loss: 0.4254 - acc: 0.7333     \n",
      "Epoch 79/100\n",
      "75/75 [==============================] - 0s - loss: 0.4252 - acc: 0.7333     \n",
      "Epoch 80/100\n",
      "75/75 [==============================] - 0s - loss: 0.4245 - acc: 0.7333        \n",
      "Epoch 81/100\n",
      "75/75 [==============================] - 0s - loss: 0.4223 - acc: 0.7333     \n",
      "Epoch 82/100\n",
      "75/75 [==============================] - 0s - loss: 0.4286 - acc: 0.7600        \n",
      "Epoch 83/100\n",
      "75/75 [==============================] - 0s - loss: 0.4216 - acc: 0.7600        \n",
      "Epoch 84/100\n",
      "75/75 [==============================] - 0s - loss: 0.4213 - acc: 0.7600     \n",
      "Epoch 85/100\n",
      "75/75 [==============================] - 0s - loss: 0.4191 - acc: 0.7600        \n",
      "Epoch 86/100\n",
      "75/75 [==============================] - 0s - loss: 0.4145 - acc: 0.7733        \n",
      "Epoch 87/100\n",
      "75/75 [==============================] - 0s - loss: 0.3893 - acc: 0.8933     \n",
      "Epoch 88/100\n",
      "75/75 [==============================] - 0s - loss: 0.3430 - acc: 0.9600     \n",
      "Epoch 89/100\n",
      "75/75 [==============================] - 0s - loss: 0.3067 - acc: 0.9467     \n",
      "Epoch 90/100\n"
     ]
    },
    {
     "name": "stdout",
     "output_type": "stream",
     "text": [
      "75/75 [==============================] - 0s - loss: 0.2807 - acc: 0.9600     \n",
      "Epoch 91/100\n",
      "75/75 [==============================] - 0s - loss: 0.2544 - acc: 0.9733     \n",
      "Epoch 92/100\n",
      "75/75 [==============================] - 0s - loss: 0.2372 - acc: 0.9733     \n",
      "Epoch 93/100\n",
      "75/75 [==============================] - 0s - loss: 0.2140 - acc: 0.9867     \n",
      "Epoch 94/100\n",
      "75/75 [==============================] - 0s - loss: 0.1976 - acc: 0.9867     \n",
      "Epoch 95/100\n",
      "75/75 [==============================] - 0s - loss: 0.1830 - acc: 0.9867     \n",
      "Epoch 96/100\n",
      "75/75 [==============================] - 0s - loss: 0.1697 - acc: 0.9867     \n",
      "Epoch 97/100\n",
      "75/75 [==============================] - 0s - loss: 0.1574 - acc: 0.9733     \n",
      "Epoch 98/100\n",
      "75/75 [==============================] - 0s - loss: 0.1528 - acc: 0.9733     \n",
      "Epoch 99/100\n",
      "75/75 [==============================] - 0s - loss: 0.1388 - acc: 0.9867     \n",
      "Epoch 100/100\n",
      "75/75 [==============================] - 0s - loss: 0.1403 - acc: 0.9733     \n"
     ]
    }
   ],
   "source": [
    "modelhistory = model.fit(train_features, train_labels_ohe, epochs=100, batch_size=1, verbose=1);"
   ]
  },
  {
   "cell_type": "code",
   "execution_count": 93,
   "metadata": {},
   "outputs": [
    {
     "name": "stdout",
     "output_type": "stream",
     "text": [
      "32/75 [===========>..................] - ETA: 0sAccuracy = 0.95\n",
      "loss  0.173178274333\n"
     ]
    }
   ],
   "source": [
    "loss, accuracy = model.evaluate(test_features, test_labels_ohe, verbose=1)\n",
    "print(\"Accuracy = {:.2f}\".format(accuracy))\n",
    "print(\"loss \",loss)"
   ]
  },
  {
   "cell_type": "code",
   "execution_count": null,
   "metadata": {
    "collapsed": true
   },
   "outputs": [],
   "source": []
  }
 ],
 "metadata": {
  "kernelspec": {
   "display_name": "Python 3",
   "language": "python",
   "name": "python3"
  },
  "language_info": {
   "codemirror_mode": {
    "name": "ipython",
    "version": 3
   },
   "file_extension": ".py",
   "mimetype": "text/x-python",
   "name": "python",
   "nbconvert_exporter": "python",
   "pygments_lexer": "ipython3",
   "version": "3.5.3"
  }
 },
 "nbformat": 4,
 "nbformat_minor": 2
}
