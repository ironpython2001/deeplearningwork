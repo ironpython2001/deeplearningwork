{
 "cells": [
  {
   "cell_type": "code",
   "execution_count": 1,
   "metadata": {
    "collapsed": true
   },
   "outputs": [],
   "source": [
    "#https://dataplatform.ibm.com/analytics/notebooks/d96fa67b-14f1-4db7-8b60-1af3c13699c3/view?access_token=c31fd96333af39811a78fe7773e421a50c7e20a450badb653bf4e0db39dc8f3f\n",
    "import seaborn"
   ]
  },
  {
   "cell_type": "code",
   "execution_count": 2,
   "metadata": {},
   "outputs": [
    {
     "name": "stderr",
     "output_type": "stream",
     "text": [
      "C:\\Anaconda3\\envs\\statistical-inference\\lib\\site-packages\\bs4\\__init__.py:181: UserWarning: No parser was explicitly specified, so I'm using the best available HTML parser for this system (\"lxml\"). This usually isn't a problem, but if you run this code on another system, or in a different virtual environment, it may use a different parser and behave differently.\n",
      "\n",
      "The code that caused this warning is on line 193 of the file C:\\Anaconda3\\envs\\statistical-inference\\lib\\runpy.py. To get rid of this warning, change code that looks like this:\n",
      "\n",
      " BeautifulSoup(YOUR_MARKUP})\n",
      "\n",
      "to this:\n",
      "\n",
      " BeautifulSoup(YOUR_MARKUP, \"lxml\")\n",
      "\n",
      "  markup_type=markup_type))\n"
     ]
    },
    {
     "name": "stdout",
     "output_type": "stream",
     "text": [
      "anscombe\n",
      "attention\n",
      "brain_networks\n",
      "car_crashes\n",
      "dots\n",
      "exercise\n",
      "flights\n",
      "fmri\n",
      "gammas\n",
      "iris\n",
      "planets\n",
      "tips\n",
      "titanic\n"
     ]
    }
   ],
   "source": [
    "#to see the list of datasets supported by seaborn\n",
    "for i in seaborn.get_dataset_names():\n",
    "    print(i)\n"
   ]
  },
  {
   "cell_type": "code",
   "execution_count": 3,
   "metadata": {
    "collapsed": true
   },
   "outputs": [],
   "source": [
    "\n",
    "ds = seaborn.load_dataset('iris')\n"
   ]
  },
  {
   "cell_type": "code",
   "execution_count": 4,
   "metadata": {},
   "outputs": [
    {
     "data": {
      "text/html": [
       "<div>\n",
       "<style>\n",
       "    .dataframe thead tr:only-child th {\n",
       "        text-align: right;\n",
       "    }\n",
       "\n",
       "    .dataframe thead th {\n",
       "        text-align: left;\n",
       "    }\n",
       "\n",
       "    .dataframe tbody tr th {\n",
       "        vertical-align: top;\n",
       "    }\n",
       "</style>\n",
       "<table border=\"1\" class=\"dataframe\">\n",
       "  <thead>\n",
       "    <tr style=\"text-align: right;\">\n",
       "      <th></th>\n",
       "      <th>sepal_length</th>\n",
       "      <th>sepal_width</th>\n",
       "      <th>petal_length</th>\n",
       "      <th>petal_width</th>\n",
       "      <th>species</th>\n",
       "    </tr>\n",
       "  </thead>\n",
       "  <tbody>\n",
       "    <tr>\n",
       "      <th>0</th>\n",
       "      <td>5.1</td>\n",
       "      <td>3.5</td>\n",
       "      <td>1.4</td>\n",
       "      <td>0.2</td>\n",
       "      <td>setosa</td>\n",
       "    </tr>\n",
       "    <tr>\n",
       "      <th>1</th>\n",
       "      <td>4.9</td>\n",
       "      <td>3.0</td>\n",
       "      <td>1.4</td>\n",
       "      <td>0.2</td>\n",
       "      <td>setosa</td>\n",
       "    </tr>\n",
       "    <tr>\n",
       "      <th>2</th>\n",
       "      <td>4.7</td>\n",
       "      <td>3.2</td>\n",
       "      <td>1.3</td>\n",
       "      <td>0.2</td>\n",
       "      <td>setosa</td>\n",
       "    </tr>\n",
       "    <tr>\n",
       "      <th>3</th>\n",
       "      <td>4.6</td>\n",
       "      <td>3.1</td>\n",
       "      <td>1.5</td>\n",
       "      <td>0.2</td>\n",
       "      <td>setosa</td>\n",
       "    </tr>\n",
       "    <tr>\n",
       "      <th>4</th>\n",
       "      <td>5.0</td>\n",
       "      <td>3.6</td>\n",
       "      <td>1.4</td>\n",
       "      <td>0.2</td>\n",
       "      <td>setosa</td>\n",
       "    </tr>\n",
       "  </tbody>\n",
       "</table>\n",
       "</div>"
      ],
      "text/plain": [
       "   sepal_length  sepal_width  petal_length  petal_width species\n",
       "0           5.1          3.5           1.4          0.2  setosa\n",
       "1           4.9          3.0           1.4          0.2  setosa\n",
       "2           4.7          3.2           1.3          0.2  setosa\n",
       "3           4.6          3.1           1.5          0.2  setosa\n",
       "4           5.0          3.6           1.4          0.2  setosa"
      ]
     },
     "execution_count": 4,
     "metadata": {},
     "output_type": "execute_result"
    }
   ],
   "source": [
    "ds.head()"
   ]
  },
  {
   "cell_type": "code",
   "execution_count": 5,
   "metadata": {
    "collapsed": true
   },
   "outputs": [],
   "source": [
    "seaborn.pairplot(ds, hue='species');"
   ]
  },
  {
   "cell_type": "code",
   "execution_count": 6,
   "metadata": {
    "collapsed": true
   },
   "outputs": [],
   "source": [
    "features= ds.values[:, :4]\n",
    "labels = ds.values[:, 4]"
   ]
  },
  {
   "cell_type": "code",
   "execution_count": 7,
   "metadata": {},
   "outputs": [
    {
     "name": "stderr",
     "output_type": "stream",
     "text": [
      "C:\\Anaconda3\\envs\\statistical-inference\\lib\\site-packages\\sklearn\\cross_validation.py:44: DeprecationWarning: This module was deprecated in version 0.18 in favor of the model_selection module into which all the refactored classes and functions are moved. Also note that the interface of the new CV iterators are different from that of this module. This module will be removed in 0.20.\n",
      "  \"This module will be removed in 0.20.\", DeprecationWarning)\n"
     ]
    }
   ],
   "source": [
    "from sklearn.cross_validation import train_test_split"
   ]
  },
  {
   "cell_type": "code",
   "execution_count": 8,
   "metadata": {
    "collapsed": true
   },
   "outputs": [],
   "source": [
    "train_features, test_features, train_labels, test_labels = train_test_split(features, labels, train_size=0.5, random_state=0)"
   ]
  },
  {
   "cell_type": "code",
   "execution_count": 9,
   "metadata": {},
   "outputs": [
    {
     "name": "stderr",
     "output_type": "stream",
     "text": [
      "Using TensorFlow backend.\n"
     ]
    }
   ],
   "source": [
    "import numpy as np\n",
    "import keras.utils "
   ]
  },
  {
   "cell_type": "code",
   "execution_count": 10,
   "metadata": {
    "collapsed": true
   },
   "outputs": [],
   "source": [
    "\n",
    "def one_hot_encode_object_array(arr):\n",
    "    '''One hot encode a numpy array of objects (e.g. strings)'''\n",
    "    uniques, ids = np.unique(arr, return_inverse=True)\n",
    "    return keras.utils.np_utils.to_categorical(ids, len(uniques))\n",
    "\n",
    "train_labels_ohe = one_hot_encode_object_array(train_labels)\n",
    "test_labels_ohe = one_hot_encode_object_array(test_labels)"
   ]
  },
  {
   "cell_type": "code",
   "execution_count": 11,
   "metadata": {
    "collapsed": true
   },
   "outputs": [],
   "source": [
    "import keras.models"
   ]
  },
  {
   "cell_type": "code",
   "execution_count": 12,
   "metadata": {
    "collapsed": true
   },
   "outputs": [],
   "source": [
    "model = keras.models.Sequential()"
   ]
  },
  {
   "cell_type": "code",
   "execution_count": 13,
   "metadata": {
    "collapsed": true
   },
   "outputs": [],
   "source": [
    "import keras.layers"
   ]
  },
  {
   "cell_type": "code",
   "execution_count": 14,
   "metadata": {},
   "outputs": [
    {
     "data": {
      "text/plain": [
       "4"
      ]
     },
     "execution_count": 14,
     "metadata": {},
     "output_type": "execute_result"
    }
   ],
   "source": [
    "features.shape[1]"
   ]
  },
  {
   "cell_type": "code",
   "execution_count": 15,
   "metadata": {
    "collapsed": true
   },
   "outputs": [],
   "source": [
    "inputlayer = keras.layers.Dense(16,activation=keras.activations.sigmoid,input_dim=features.shape[1])"
   ]
  },
  {
   "cell_type": "code",
   "execution_count": 16,
   "metadata": {
    "collapsed": true
   },
   "outputs": [],
   "source": [
    "model.add(inputlayer)"
   ]
  },
  {
   "cell_type": "code",
   "execution_count": 17,
   "metadata": {
    "collapsed": true
   },
   "outputs": [],
   "source": [
    "outputlayer = keras.layers.Dense(3,activation=keras.activations.softmax)"
   ]
  },
  {
   "cell_type": "code",
   "execution_count": 18,
   "metadata": {
    "collapsed": true
   },
   "outputs": [],
   "source": [
    "model.add(outputlayer)"
   ]
  },
  {
   "cell_type": "code",
   "execution_count": 19,
   "metadata": {
    "collapsed": true
   },
   "outputs": [],
   "source": [
    "model.compile(optimizer=keras.optimizers.Adam(), loss=keras.losses.categorical_crossentropy, metrics=[\"accuracy\"])"
   ]
  },
  {
   "cell_type": "code",
   "execution_count": 20,
   "metadata": {},
   "outputs": [
    {
     "name": "stdout",
     "output_type": "stream",
     "text": [
      "Epoch 1/100\n",
      "75/75 [==============================] - 0s - loss: 1.1133 - acc: 0.3867     \n",
      "Epoch 2/100\n",
      "75/75 [==============================] - 0s - loss: 1.0526 - acc: 0.3867        \n",
      "Epoch 3/100\n",
      "75/75 [==============================] - 0s - loss: 1.0154 - acc: 0.3867     \n",
      "Epoch 4/100\n",
      "75/75 [==============================] - 0s - loss: 0.9778 - acc: 0.5600        \n",
      "Epoch 5/100\n",
      "75/75 [==============================] - 0s - loss: 0.9423 - acc: 0.7200     \n",
      "Epoch 6/100\n",
      "75/75 [==============================] - 0s - loss: 0.9013 - acc: 0.7333        \n",
      "Epoch 7/100\n",
      "75/75 [==============================] - 0s - loss: 0.8547 - acc: 0.7333     \n",
      "Epoch 8/100\n",
      "75/75 [==============================] - 0s - loss: 0.8038 - acc: 0.7333     \n",
      "Epoch 9/100\n",
      "75/75 [==============================] - 0s - loss: 0.7569 - acc: 0.7333        \n",
      "Epoch 10/100\n",
      "75/75 [==============================] - 0s - loss: 0.7090 - acc: 0.7333     \n",
      "Epoch 11/100\n",
      "75/75 [==============================] - 0s - loss: 0.6615 - acc: 0.7333     \n",
      "Epoch 12/100\n",
      "75/75 [==============================] - 0s - loss: 0.6237 - acc: 0.7333     \n",
      "Epoch 13/100\n",
      "75/75 [==============================] - 0s - loss: 0.5927 - acc: 0.7333        \n",
      "Epoch 14/100\n",
      "75/75 [==============================] - 0s - loss: 0.5593 - acc: 0.8000     \n",
      "Epoch 15/100\n",
      "75/75 [==============================] - 0s - loss: 0.5319 - acc: 0.7600     \n",
      "Epoch 16/100\n",
      "75/75 [==============================] - 0s - loss: 0.5150 - acc: 0.8800     \n",
      "Epoch 17/100\n",
      "75/75 [==============================] - 0s - loss: 0.4907 - acc: 0.7867     \n",
      "Epoch 18/100\n",
      "75/75 [==============================] - 0s - loss: 0.4736 - acc: 0.8267        \n",
      "Epoch 19/100\n",
      "75/75 [==============================] - 0s - loss: 0.4544 - acc: 0.8133     \n",
      "Epoch 20/100\n",
      "75/75 [==============================] - 0s - loss: 0.4404 - acc: 0.8400     \n",
      "Epoch 21/100\n",
      "75/75 [==============================] - 0s - loss: 0.4247 - acc: 0.9067     \n",
      "Epoch 22/100\n",
      "75/75 [==============================] - 0s - loss: 0.4137 - acc: 0.9333     \n",
      "Epoch 23/100\n",
      "75/75 [==============================] - 0s - loss: 0.4023 - acc: 0.8400     \n",
      "Epoch 24/100\n",
      "75/75 [==============================] - 0s - loss: 0.3892 - acc: 0.9333     \n",
      "Epoch 25/100\n",
      "75/75 [==============================] - 0s - loss: 0.3807 - acc: 0.9333     \n",
      "Epoch 26/100\n",
      "75/75 [==============================] - 0s - loss: 0.3695 - acc: 0.9067     \n",
      "Epoch 27/100\n",
      "75/75 [==============================] - 0s - loss: 0.3615 - acc: 0.9467     \n",
      "Epoch 28/100\n",
      "75/75 [==============================] - 0s - loss: 0.3512 - acc: 0.9467     \n",
      "Epoch 29/100\n",
      "75/75 [==============================] - 0s - loss: 0.3439 - acc: 0.9467     \n",
      "Epoch 30/100\n",
      "75/75 [==============================] - 0s - loss: 0.3374 - acc: 0.9467        \n",
      "Epoch 31/100\n",
      "75/75 [==============================] - 0s - loss: 0.3303 - acc: 0.9467     \n",
      "Epoch 32/100\n",
      "75/75 [==============================] - 0s - loss: 0.3218 - acc: 0.9467     \n",
      "Epoch 33/100\n",
      "75/75 [==============================] - 0s - loss: 0.3175 - acc: 0.9467     \n",
      "Epoch 34/100\n",
      "75/75 [==============================] - 0s - loss: 0.3089 - acc: 0.9467        \n",
      "Epoch 35/100\n",
      "75/75 [==============================] - 0s - loss: 0.3069 - acc: 0.9467     \n",
      "Epoch 36/100\n",
      "75/75 [==============================] - 0s - loss: 0.2975 - acc: 0.9467     \n",
      "Epoch 37/100\n",
      "75/75 [==============================] - 0s - loss: 0.2925 - acc: 0.9467     \n",
      "Epoch 38/100\n",
      "75/75 [==============================] - 0s - loss: 0.2856 - acc: 0.9467     \n",
      "Epoch 39/100\n",
      "75/75 [==============================] - 0s - loss: 0.2824 - acc: 0.9600     \n",
      "Epoch 40/100\n",
      "75/75 [==============================] - 0s - loss: 0.2754 - acc: 0.9467     \n",
      "Epoch 41/100\n",
      "75/75 [==============================] - 0s - loss: 0.2682 - acc: 0.9467     \n",
      "Epoch 42/100\n",
      "75/75 [==============================] - 0s - loss: 0.2633 - acc: 0.9600     \n",
      "Epoch 43/100\n",
      "75/75 [==============================] - ETA: 0s - loss: 0.2661 - acc: 0.953 - 0s - loss: 0.2596 - acc: 0.9600     \n",
      "Epoch 44/100\n",
      "75/75 [==============================] - 0s - loss: 0.2549 - acc: 0.9600     \n",
      "Epoch 45/100\n",
      "75/75 [==============================] - 0s - loss: 0.2490 - acc: 0.9600     \n",
      "Epoch 46/100\n",
      "75/75 [==============================] - 0s - loss: 0.2456 - acc: 0.9600     \n",
      "Epoch 47/100\n",
      "75/75 [==============================] - 0s - loss: 0.2403 - acc: 0.9467     \n",
      "Epoch 48/100\n",
      "75/75 [==============================] - 0s - loss: 0.2361 - acc: 0.9467     \n",
      "Epoch 49/100\n",
      "75/75 [==============================] - 0s - loss: 0.2338 - acc: 0.9467     \n",
      "Epoch 50/100\n",
      "75/75 [==============================] - 0s - loss: 0.2286 - acc: 0.9467        \n",
      "Epoch 51/100\n",
      "75/75 [==============================] - 0s - loss: 0.2235 - acc: 0.9467     \n",
      "Epoch 52/100\n",
      "75/75 [==============================] - 0s - loss: 0.2199 - acc: 0.9467     \n",
      "Epoch 53/100\n",
      "75/75 [==============================] - 0s - loss: 0.2157 - acc: 0.9733     \n",
      "Epoch 54/100\n",
      "75/75 [==============================] - 0s - loss: 0.2114 - acc: 0.9467     \n",
      "Epoch 55/100\n",
      "75/75 [==============================] - 0s - loss: 0.2095 - acc: 0.9600     \n",
      "Epoch 56/100\n",
      "75/75 [==============================] - 0s - loss: 0.2038 - acc: 0.9733     \n",
      "Epoch 57/100\n",
      "75/75 [==============================] - 0s - loss: 0.1999 - acc: 0.9600     \n",
      "Epoch 58/100\n",
      "75/75 [==============================] - 0s - loss: 0.1997 - acc: 0.9867     \n",
      "Epoch 59/100\n",
      "75/75 [==============================] - 0s - loss: 0.1967 - acc: 0.9733     \n",
      "Epoch 60/100\n",
      "75/75 [==============================] - 0s - loss: 0.1899 - acc: 0.9600     \n",
      "Epoch 61/100\n",
      "75/75 [==============================] - 0s - loss: 0.1870 - acc: 0.9600     \n",
      "Epoch 62/100\n",
      "75/75 [==============================] - 0s - loss: 0.1846 - acc: 0.9600     \n",
      "Epoch 63/100\n",
      "75/75 [==============================] - 0s - loss: 0.1827 - acc: 0.9600     \n",
      "Epoch 64/100\n",
      "75/75 [==============================] - 0s - loss: 0.1770 - acc: 0.9600     \n",
      "Epoch 65/100\n",
      "75/75 [==============================] - 0s - loss: 0.1739 - acc: 0.9600     \n",
      "Epoch 66/100\n",
      "75/75 [==============================] - 0s - loss: 0.1719 - acc: 0.9467     \n",
      "Epoch 67/100\n",
      "75/75 [==============================] - 0s - loss: 0.1739 - acc: 0.9600     \n",
      "Epoch 68/100\n",
      "75/75 [==============================] - 0s - loss: 0.1699 - acc: 0.9733     \n",
      "Epoch 69/100\n",
      "75/75 [==============================] - 0s - loss: 0.1649 - acc: 0.9600     \n",
      "Epoch 70/100\n",
      "75/75 [==============================] - 0s - loss: 0.1608 - acc: 0.9600     \n",
      "Epoch 71/100\n",
      "75/75 [==============================] - 0s - loss: 0.1595 - acc: 0.9600     \n",
      "Epoch 72/100\n",
      "75/75 [==============================] - 0s - loss: 0.1590 - acc: 0.9733     \n",
      "Epoch 73/100\n",
      "75/75 [==============================] - 0s - loss: 0.1570 - acc: 0.9467     \n",
      "Epoch 74/100\n",
      "75/75 [==============================] - 0s - loss: 0.1507 - acc: 0.9733     \n",
      "Epoch 75/100\n",
      "75/75 [==============================] - 0s - loss: 0.1500 - acc: 0.9733     \n",
      "Epoch 76/100\n",
      "75/75 [==============================] - 0s - loss: 0.1470 - acc: 0.9600     \n",
      "Epoch 77/100\n",
      "75/75 [==============================] - 0s - loss: 0.1472 - acc: 0.9467     \n",
      "Epoch 78/100\n",
      "75/75 [==============================] - 0s - loss: 0.1428 - acc: 0.9867     \n",
      "Epoch 79/100\n",
      "75/75 [==============================] - 0s - loss: 0.1428 - acc: 0.9733     \n",
      "Epoch 80/100\n",
      "75/75 [==============================] - 0s - loss: 0.1422 - acc: 0.9733     \n",
      "Epoch 81/100\n",
      "75/75 [==============================] - 0s - loss: 0.1376 - acc: 0.9733     \n",
      "Epoch 82/100\n",
      "75/75 [==============================] - 0s - loss: 0.1357 - acc: 0.9733     \n",
      "Epoch 83/100\n",
      "75/75 [==============================] - 0s - loss: 0.1346 - acc: 0.9733     \n",
      "Epoch 84/100\n",
      "75/75 [==============================] - 0s - loss: 0.1315 - acc: 0.9467     \n",
      "Epoch 85/100\n",
      "75/75 [==============================] - 0s - loss: 0.1289 - acc: 0.9733     \n",
      "Epoch 86/100\n",
      "75/75 [==============================] - 0s - loss: 0.1275 - acc: 0.9733     \n",
      "Epoch 87/100\n",
      "75/75 [==============================] - 0s - loss: 0.1270 - acc: 0.9600     \n",
      "Epoch 88/100\n",
      "75/75 [==============================] - 0s - loss: 0.1271 - acc: 0.9600     \n",
      "Epoch 89/100\n",
      "75/75 [==============================] - 0s - loss: 0.1240 - acc: 0.9600     \n",
      "Epoch 90/100\n"
     ]
    },
    {
     "name": "stdout",
     "output_type": "stream",
     "text": [
      "75/75 [==============================] - 0s - loss: 0.1208 - acc: 0.9867     \n",
      "Epoch 91/100\n",
      "75/75 [==============================] - 0s - loss: 0.1238 - acc: 0.9600     \n",
      "Epoch 92/100\n",
      "75/75 [==============================] - 0s - loss: 0.1211 - acc: 0.9600     \n",
      "Epoch 93/100\n",
      "75/75 [==============================] - 0s - loss: 0.1209 - acc: 0.9600     \n",
      "Epoch 94/100\n",
      "75/75 [==============================] - 0s - loss: 0.1149 - acc: 0.9867     \n",
      "Epoch 95/100\n",
      "75/75 [==============================] - 0s - loss: 0.1141 - acc: 0.9600     \n",
      "Epoch 96/100\n",
      "75/75 [==============================] - 0s - loss: 0.1147 - acc: 0.9733        \n",
      "Epoch 97/100\n",
      "75/75 [==============================] - 0s - loss: 0.1125 - acc: 1.0000     \n",
      "Epoch 98/100\n",
      "75/75 [==============================] - 0s - loss: 0.1120 - acc: 0.9467     \n",
      "Epoch 99/100\n",
      "75/75 [==============================] - 0s - loss: 0.1103 - acc: 0.9733     \n",
      "Epoch 100/100\n",
      "75/75 [==============================] - 0s - loss: 0.1079 - acc: 0.9733     \n"
     ]
    }
   ],
   "source": [
    "modelhistory = model.fit(train_features, train_labels_ohe, epochs=100, batch_size=1, verbose=1);"
   ]
  },
  {
   "cell_type": "code",
   "execution_count": 21,
   "metadata": {},
   "outputs": [
    {
     "name": "stdout",
     "output_type": "stream",
     "text": [
      "32/75 [===========>..................] - ETA: 0sAccuracy = 0.99\n",
      "loss  0.13877809008\n"
     ]
    }
   ],
   "source": [
    "loss, accuracy = model.evaluate(test_features, test_labels_ohe, verbose=1)\n",
    "print(\"Accuracy = {:.2f}\".format(accuracy))\n",
    "print(\"loss \",loss)"
   ]
  },
  {
   "cell_type": "code",
   "execution_count": 22,
   "metadata": {
    "collapsed": true
   },
   "outputs": [],
   "source": [
    "modelhistory.model.save('multiclassclassification')"
   ]
  },
  {
   "cell_type": "code",
   "execution_count": 24,
   "metadata": {},
   "outputs": [],
   "source": [
    "model_json = modelhistory.model.to_json()"
   ]
  },
  {
   "cell_type": "code",
   "execution_count": 25,
   "metadata": {},
   "outputs": [
    {
     "data": {
      "text/plain": [
       "1080"
      ]
     },
     "execution_count": 25,
     "metadata": {},
     "output_type": "execute_result"
    }
   ],
   "source": [
    "open('multiclassclassification.json', 'w').write(model_json)"
   ]
  },
  {
   "cell_type": "code",
   "execution_count": 27,
   "metadata": {
    "collapsed": true
   },
   "outputs": [],
   "source": [
    "modelhistory.model.save_weights(\"multiclassclassification.h5\")"
   ]
  },
  {
   "cell_type": "code",
   "execution_count": null,
   "metadata": {
    "collapsed": true
   },
   "outputs": [],
   "source": []
  }
 ],
 "metadata": {
  "kernelspec": {
   "display_name": "Python 3",
   "language": "python",
   "name": "python3"
  },
  "language_info": {
   "codemirror_mode": {
    "name": "ipython",
    "version": 3
   },
   "file_extension": ".py",
   "mimetype": "text/x-python",
   "name": "python",
   "nbconvert_exporter": "python",
   "pygments_lexer": "ipython3",
   "version": "3.5.3"
  }
 },
 "nbformat": 4,
 "nbformat_minor": 2
}
