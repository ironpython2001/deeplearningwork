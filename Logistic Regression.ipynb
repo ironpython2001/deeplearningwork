{
 "cells": [
  {
   "cell_type": "markdown",
   "metadata": {},
   "source": [
    "The data generation step is adopted from the url https://notebooks.azure.com/cntk/libraries/tutorials/html/CNTK_101_LogisticRegression.ipynb"
   ]
  },
  {
   "cell_type": "code",
   "execution_count": 46,
   "metadata": {},
   "outputs": [],
   "source": [
    "input_dim = 2\n",
    "num_output_classes = 2\n",
    "sample_size = 32"
   ]
  },
  {
   "cell_type": "code",
   "execution_count": 50,
   "metadata": {
    "collapsed": true
   },
   "outputs": [],
   "source": [
    "import numpy"
   ]
  },
  {
   "cell_type": "code",
   "execution_count": 51,
   "metadata": {},
   "outputs": [],
   "source": [
    "# Ensure that we always get the same results\n",
    "numpy.random.seed(0)\n",
    "\n",
    "# Create synthetic data using NumPy. \n",
    "labels = numpy.random.randint(size=(sample_size, 1), low=0, high=num_output_classes)\n",
    "\n",
    "# Make sure that the data is separable \n",
    "features = (numpy.random.randn(sample_size, input_dim)+3) * (Y+1)\n",
    "\n",
    "# Specify the data type to match the input variable used later in the tutorial \n",
    "# (default type is double)\n",
    "features = features.astype(numpy.float32)    \n",
    "\n",
    "# convert class 0 into the vector \"1 0 0\", \n",
    "# class 1 into the vector \"0 1 0\", ...\n",
    "class_ind = [labels==class_number for class_number in range(num_output_classes)]\n",
    "labels = numpy.asarray(numpy.hstack(class_ind), dtype=np.float32)\n"
   ]
  },
  {
   "cell_type": "code",
   "execution_count": 52,
   "metadata": {},
   "outputs": [],
   "source": [
    "age = features[:,0]"
   ]
  },
  {
   "cell_type": "code",
   "execution_count": 53,
   "metadata": {
    "collapsed": true
   },
   "outputs": [],
   "source": [
    "tumorsize = features[:,1]"
   ]
  },
  {
   "cell_type": "code",
   "execution_count": 54,
   "metadata": {},
   "outputs": [],
   "source": [
    "# let 0 represent malignant/red and 1 represent benign/blue \n",
    "colors = ['r' if label == 0 else 'b' for label in labels[:,0]]"
   ]
  },
  {
   "cell_type": "code",
   "execution_count": 55,
   "metadata": {
    "collapsed": true
   },
   "outputs": [],
   "source": [
    "import matplotlib "
   ]
  },
  {
   "cell_type": "code",
   "execution_count": 56,
   "metadata": {},
   "outputs": [
    {
     "data": {
      "image/png": "[encoded data removed]",
      "text/plain": [
       "<matplotlib.figure.Figure at 0x9026ef0>"
      ]
     },
     "metadata": {},
     "output_type": "display_data"
    }
   ],
   "source": [
    "matplotlib.pyplot.scatter(age, tumorsize, c=colors)\n",
    "matplotlib.pyplot.xlabel(\"Age (scaled)\")\n",
    "matplotlib.pyplot.ylabel(\"Tumor size (in cm)\")\n",
    "matplotlib.pyplot.show()"
   ]
  },
  {
   "cell_type": "markdown",
   "metadata": {},
   "source": [
    "###### Below is the The neural network architecture\n",
    "###### We can also use this code to draw this https://gist.github.com/craffel/2d727968c3aaebd10359\n",
    "<img src='https://www.cntk.ai/jup/logistic_neuron2.jpg' , width=300, height=200/>"
   ]
  },
  {
   "cell_type": "code",
   "execution_count": null,
   "metadata": {
    "collapsed": true
   },
   "outputs": [],
   "source": []
  }
 ],
 "metadata": {
  "kernelspec": {
   "display_name": "Python 3",
   "language": "python",
   "name": "python3"
  },
  "language_info": {
   "codemirror_mode": {
    "name": "ipython",
    "version": 3
   },
   "file_extension": ".py",
   "mimetype": "text/x-python",
   "name": "python",
   "nbconvert_exporter": "python",
   "pygments_lexer": "ipython3",
   "version": "3.6.2"
  }
 },
 "nbformat": 4,
 "nbformat_minor": 2
}
